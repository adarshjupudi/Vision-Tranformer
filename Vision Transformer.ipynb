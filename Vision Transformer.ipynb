{
 "cells": [
  {
   "cell_type": "markdown",
   "metadata": {
    "id": "bc1ZK1oY1jlj"
   },
   "source": [
    "# Import required libraries"
   ]
  },
  {
   "cell_type": "code",
   "execution_count": null,
   "metadata": {
    "executionInfo": {
     "elapsed": 8960,
     "status": "ok",
     "timestamp": 1751779662498,
     "user": {
      "displayName": "Adarsh Jupudi",
      "userId": "01345547289760622668"
     },
     "user_tz": -330
    },
    "id": "rCjQln9y1ovn"
   },
   "outputs": [],
   "source": [
    "import torch\n",
    "import torch.nn as nn\n",
    "import torch.nn.functional as F\n",
    "import torch.optim as optim\n",
    "import torchvision\n",
    "from torch.utils.data import DataLoader\n",
    "from torchvision import datasets, transforms\n",
    "import numpy as np\n",
    "import matplotlib.pyplot as plt\n",
    "import random"
   ]
  },
  {
   "cell_type": "code",
   "execution_count": null,
   "metadata": {
    "executionInfo": {
     "elapsed": 10,
     "status": "ok",
     "timestamp": 1751779662502,
     "user": {
      "displayName": "Adarsh Jupudi",
      "userId": "01345547289760622668"
     },
     "user_tz": -330
    },
    "id": "_cmxZYvl2fAM"
   },
   "outputs": [],
   "source": [
    "device=\"cuda\" if torch.cuda.is_available() else \"cpu\""
   ]
  },
  {
   "cell_type": "code",
   "execution_count": null,
   "metadata": {
    "executionInfo": {
     "elapsed": 5,
     "status": "ok",
     "timestamp": 1751779662509,
     "user": {
      "displayName": "Adarsh Jupudi",
      "userId": "01345547289760622668"
     },
     "user_tz": -330
    },
    "id": "ieUOEd2M3SFj"
   },
   "outputs": [],
   "source": [
    "#To achieve consistent results and increase reproducibility\n",
    "torch.manual_seed(3)\n",
    "torch.cuda.manual_seed(3)\n",
    "random.seed(3)"
   ]
  },
  {
   "cell_type": "markdown",
   "metadata": {
    "id": "00gae766EfAb"
   },
   "source": [
    "Setting the hyperparameters\n"
   ]
  },
  {
   "cell_type": "code",
   "execution_count": null,
   "metadata": {
    "executionInfo": {
     "elapsed": 3,
     "status": "ok",
     "timestamp": 1751779662515,
     "user": {
      "displayName": "Adarsh Jupudi",
      "userId": "01345547289760622668"
     },
     "user_tz": -330
    },
    "id": "VOfUUSSoEikN"
   },
   "outputs": [],
   "source": [
    "BATCH_SIZE=128\n",
    "EPOCHS=10\n",
    "LEARNING_RATE=3e-4\n",
    "PATCH_SIZE=4\n",
    "NUM_CLASSES=10\n",
    "IMAGE_SIZE=32\n",
    "CHANNELS=3\n",
    "EMBED_DIM=256\n",
    "NUM_HEADS=8\n",
    "DEPTH=6\n",
    "MLP_DIM=512\n",
    "DROP_RATE=0.1"
   ]
  },
  {
   "cell_type": "code",
   "execution_count": null,
   "metadata": {
    "executionInfo": {
     "elapsed": 3,
     "status": "ok",
     "timestamp": 1751779662521,
     "user": {
      "displayName": "Adarsh Jupudi",
      "userId": "01345547289760622668"
     },
     "user_tz": -330
    },
    "id": "Lxr_B6fbFj0I"
   },
   "outputs": [],
   "source": [
    "transform=transforms.Compose([\n",
    "    transforms.ToTensor(),\n",
    "    transforms.Normalize((0.5),(0.5))#helps converge faster\n",
    "])"
   ]
  },
  {
   "cell_type": "code",
   "execution_count": null,
   "metadata": {
    "colab": {
     "base_uri": "https://localhost:8080/"
    },
    "executionInfo": {
     "elapsed": 7207,
     "status": "ok",
     "timestamp": 1751779669731,
     "user": {
      "displayName": "Adarsh Jupudi",
      "userId": "01345547289760622668"
     },
     "user_tz": -330
    },
    "id": "JxRMlqYgHyqG",
    "outputId": "52d8d008-f017-4475-a859-97504513e72d"
   },
   "outputs": [],
   "source": [
    "#loading the train dataset\n",
    "train_dataset = datasets.CIFAR10(root=\"data\",\n",
    "                                 train=True,\n",
    "                                 download=True,\n",
    "                                 transform=transform)"
   ]
  },
  {
   "cell_type": "code",
   "execution_count": null,
   "metadata": {
    "executionInfo": {
     "elapsed": 644,
     "status": "ok",
     "timestamp": 1751779670371,
     "user": {
      "displayName": "Adarsh Jupudi",
      "userId": "01345547289760622668"
     },
     "user_tz": -330
    },
    "id": "61bGjfH7WbbO"
   },
   "outputs": [],
   "source": [
    "#loading test dataset\n",
    "test_dataset= datasets.CIFAR10(root=\"data\",\n",
    "                                 train=False,\n",
    "                                 download=True,\n",
    "                                 transform=transform)"
   ]
  },
  {
   "cell_type": "code",
   "execution_count": null,
   "metadata": {
    "executionInfo": {
     "elapsed": 22,
     "status": "ok",
     "timestamp": 1751779670407,
     "user": {
      "displayName": "Adarsh Jupudi",
      "userId": "01345547289760622668"
     },
     "user_tz": -330
    },
    "id": "1Y33MP4UWtRv"
   },
   "outputs": [],
   "source": [
    "'''\n",
    "Loading pytorch datasets and converting them to mini-batches to be\n",
    "more computationally efficient\n",
    "'''\n",
    "train_loader= DataLoader(dataset=train_dataset,\n",
    "                         batch_size=BATCH_SIZE,\n",
    "                         shuffle=True)\n",
    "test_loader= DataLoader(dataset=test_dataset,\n",
    "                         batch_size=BATCH_SIZE,\n",
    "                         shuffle=False)"
   ]
  },
  {
   "cell_type": "code",
   "execution_count": null,
   "metadata": {
    "colab": {
     "base_uri": "https://localhost:8080/"
    },
    "executionInfo": {
     "elapsed": 18,
     "status": "ok",
     "timestamp": 1751779670429,
     "user": {
      "displayName": "Adarsh Jupudi",
      "userId": "01345547289760622668"
     },
     "user_tz": -330
    },
    "id": "KTiwwq4Lgm4X",
    "outputId": "feab0333-ab96-4833-b0be-1e34660fd3ed"
   },
   "outputs": [],
   "source": [
    "# Understanding the data\n",
    "print(f\"Lenght of train_loader: {len(train_loader)}\")\n",
    "print(f\"Lenght of test_loader: {len(test_loader)}\")"
   ]
  },
  {
   "cell_type": "markdown",
   "metadata": {
    "id": "nexQhpNchw36"
   },
   "source": [
    "##Building vision transformer model from scratch"
   ]
  },
  {
   "cell_type": "code",
   "execution_count": null,
   "metadata": {
    "executionInfo": {
     "elapsed": 2,
     "status": "ok",
     "timestamp": 1751779670433,
     "user": {
      "displayName": "Adarsh Jupudi",
      "userId": "01345547289760622668"
     },
     "user_tz": -330
    },
    "id": "IOUXvw51h0yH"
   },
   "outputs": [],
   "source": [
    "class PatchEmbedding(nn.Module):\n",
    "    def __init__(self,\n",
    "                 img_size,\n",
    "                 patch_size,\n",
    "                 in_channels,\n",
    "                 embed_dim):\n",
    "        super().__init__()\n",
    "        self.patch_size=patch_size\n",
    "        self.proj=nn.Conv2d(in_channels=in_channels,\n",
    "                            out_channels=embed_dim,\n",
    "                            kernel_size=patch_size,\n",
    "                            stride=patch_size)\n",
    "        num_patches=(img_size//patch_size)**2\n",
    "        self.cls_token=nn.Parameter(torch.randn(1,1,embed_dim))\n",
    "        self.pos_embed=nn.Parameter(torch.randn(1,1+num_patches,embed_dim))\n",
    "\n",
    "    def forward(self,x:torch.Tensor):\n",
    "        B=x.size(0)\n",
    "        x=self.proj(x) #(B,E,H/P,W/P)\n",
    "        x=x.flatten(2)\n",
    "        x=x.transpose(1,2)\n",
    "        cls_token=self.cls_token.expand(B,-1,-1)\n",
    "        x=torch.cat((cls_token,x),dim=1)\n",
    "        x=x+self.pos_embed\n",
    "        return x\n"
   ]
  },
  {
   "cell_type": "code",
   "execution_count": null,
   "metadata": {
    "executionInfo": {
     "elapsed": 14,
     "status": "ok",
     "timestamp": 1751779670449,
     "user": {
      "displayName": "Adarsh Jupudi",
      "userId": "01345547289760622668"
     },
     "user_tz": -330
    },
    "id": "tIgXV_OEI_xz"
   },
   "outputs": [],
   "source": [
    "class MLP(nn.Module):\n",
    "    def __init__(self,\n",
    "                 in_features,\n",
    "                 hidden_features,\n",
    "                 drop_rate):\n",
    "        super().__init__()\n",
    "        self.fc1=nn.Linear(in_features=in_features,\n",
    "                            out_features=hidden_features)\n",
    "        self.fc2=nn.Linear(in_features=hidden_features,\n",
    "                            out_features=in_features)\n",
    "        self.dropout=nn.Dropout(drop_rate)\n",
    "\n",
    "    def forward(self,x):\n",
    "        x=self.dropout(F.gelu(self.fc1(x)))\n",
    "        x=self.dropout((self.fc2(x)))\n",
    "        return x"
   ]
  },
  {
   "cell_type": "code",
   "execution_count": null,
   "metadata": {
    "executionInfo": {
     "elapsed": 12,
     "status": "ok",
     "timestamp": 1751779670465,
     "user": {
      "displayName": "Adarsh Jupudi",
      "userId": "01345547289760622668"
     },
     "user_tz": -330
    },
    "id": "FzKfEzT3NUu1"
   },
   "outputs": [],
   "source": [
    "class TransformerEncoderLayer(nn.Module):\n",
    "    def __init__(self,embed_dim,num_heads,mlp_dim,drop_rate):\n",
    "        super().__init__()\n",
    "        self.norm1=nn.LayerNorm(embed_dim)\n",
    "        self.attn=nn.MultiheadAttention(embed_dim,num_heads,dropout=drop_rate,batch_first=True)\n",
    "        self.norm2=nn.LayerNorm(embed_dim)\n",
    "        self.mlp=MLP(in_features=embed_dim,hidden_features=mlp_dim,drop_rate=drop_rate)\n",
    "\n",
    "    def forward(self, x):\n",
    "        x = x + self.attn(self.norm1(x), self.norm1(x), self.norm1(x))[0]\n",
    "        x = x + self.mlp(self.norm2(x))\n",
    "        return x"
   ]
  },
  {
   "cell_type": "code",
   "execution_count": null,
   "metadata": {
    "executionInfo": {
     "elapsed": 18,
     "status": "ok",
     "timestamp": 1751779670485,
     "user": {
      "displayName": "Adarsh Jupudi",
      "userId": "01345547289760622668"
     },
     "user_tz": -330
    },
    "id": "u2rwJ69YvIZR"
   },
   "outputs": [],
   "source": [
    "class VisionTransformer(nn.Module):\n",
    "    def __init__(self,img_size,patch_size,in_channels, num_classes,embed_dim,depth,num_heads,mlp_dim,drop_rate):\n",
    "        super().__init__()\n",
    "        self.patch_embed = PatchEmbedding(img_size,patch_size,in_channels,embed_dim)\n",
    "        self.encoder = nn.Sequential(*[\n",
    "            TransformerEncoderLayer(embed_dim,num_heads,mlp_dim,drop_rate)\n",
    "            for _ in range(depth)\n",
    "        ])\n",
    "        self.norm = nn.LayerNorm(embed_dim)\n",
    "        self.head = nn.Linear(embed_dim, num_classes)\n",
    "\n",
    "    def forward(self, x):\n",
    "        x = self.patch_embed(x)\n",
    "        x = self.encoder(x)\n",
    "        x = self.norm(x)\n",
    "        cls_token = x[:, 0]\n",
    "        return self.head(cls_token)"
   ]
  },
  {
   "cell_type": "code",
   "execution_count": null,
   "metadata": {
    "executionInfo": {
     "elapsed": 121,
     "status": "ok",
     "timestamp": 1751779670610,
     "user": {
      "displayName": "Adarsh Jupudi",
      "userId": "01345547289760622668"
     },
     "user_tz": -330
    },
    "id": "k9MwZRGlxjZP"
   },
   "outputs": [],
   "source": [
    "#Instantiate model\n",
    "model = VisionTransformer(\n",
    "    IMAGE_SIZE, PATCH_SIZE, CHANNELS, NUM_CLASSES,\n",
    "    EMBED_DIM, DEPTH, NUM_HEADS, MLP_DIM, DROP_RATE\n",
    ").to(device)"
   ]
  },
  {
   "cell_type": "code",
   "execution_count": null,
   "metadata": {
    "executionInfo": {
     "elapsed": 23,
     "status": "ok",
     "timestamp": 1751779670637,
     "user": {
      "displayName": "Adarsh Jupudi",
      "userId": "01345547289760622668"
     },
     "user_tz": -330
    },
    "id": "7nc5sDoV0Avg"
   },
   "outputs": [],
   "source": [
    "#Defining a loss function and optimiser\n",
    "criterion = nn.CrossEntropyLoss()\n",
    "optimizer = torch.optim.Adam(params=model.parameters(),\n",
    "                              lr=LEARNING_RATE)\n"
   ]
  },
  {
   "cell_type": "code",
   "execution_count": null,
   "metadata": {
    "executionInfo": {
     "elapsed": 13,
     "status": "ok",
     "timestamp": 1751779670666,
     "user": {
      "displayName": "Adarsh Jupudi",
      "userId": "01345547289760622668"
     },
     "user_tz": -330
    },
    "id": "vB6uJ3Kq3znp"
   },
   "outputs": [],
   "source": [
    "#Defining a training loop\n",
    "def train(model,loader,optimizer,criterion):\n",
    "    model.train()\n",
    "\n",
    "    total_loss,correct=0,0\n",
    "    for x, y in loader:\n",
    "        x, y = x.to(device), y.to(device)\n",
    "        optimizer.zero_grad()\n",
    "        #Forward pass\n",
    "        out = model(x)\n",
    "        #Calculate loss\n",
    "        loss = criterion(out, y)\n",
    "        #back-prop\n",
    "        loss.backward()\n",
    "        #Perform Gradient Descent\n",
    "        optimizer.step()\n",
    "\n",
    "        total_loss += loss.item() * x.size(0)\n",
    "        correct += (out.argmax(1) == y).sum().item()\n",
    "\n",
    "    return total_loss / len(loader.dataset), correct / len(loader.dataset)"
   ]
  },
  {
   "cell_type": "code",
   "execution_count": null,
   "metadata": {
    "executionInfo": {
     "elapsed": 12,
     "status": "ok",
     "timestamp": 1751779670668,
     "user": {
      "displayName": "Adarsh Jupudi",
      "userId": "01345547289760622668"
     },
     "user_tz": -330
    },
    "id": "2F6F4h6M7cP5"
   },
   "outputs": [],
   "source": [
    "def evaluate(model ,loader):\n",
    "    model.eval() #Set the mode of the model in evaluation mode\n",
    "    correct = 0\n",
    "    with torch.inference_mode():\n",
    "        for x, y in loader:\n",
    "            x, y =x.to(device), y.to(device)\n",
    "            out = model(x)\n",
    "            correct += (out.argmax(1) == y).sum().item()\n",
    "    return correct/len(loader.dataset)"
   ]
  },
  {
   "cell_type": "markdown",
   "metadata": {
    "id": "Tl4Q0T2x8GRf"
   },
   "source": [
    "#Training"
   ]
  },
  {
   "cell_type": "code",
   "execution_count": null,
   "metadata": {
    "executionInfo": {
     "elapsed": 99,
     "status": "ok",
     "timestamp": 1751779670758,
     "user": {
      "displayName": "Adarsh Jupudi",
      "userId": "01345547289760622668"
     },
     "user_tz": -330
    },
    "id": "EydF3yJrM-Ik"
   },
   "outputs": [],
   "source": [
    "from tqdm.auto import tqdm"
   ]
  },
  {
   "cell_type": "code",
   "execution_count": null,
   "metadata": {
    "colab": {
     "base_uri": "https://localhost:8080/",
     "height": 223,
     "referenced_widgets": [
      "95726936239d4a7d9277e546152f4cdc",
      "39988c4cb45f4eb98b7f03ec3638cdd0",
      "21ba5ad978974ed28704d905041bb6fc",
      "5ab0d830c11847b3aa1f15600500863d",
      "52aee31ac360451cb0d5a87df9d19f8c",
      "1a48ee75fb154a9184f3b275c93871a2",
      "f9edda90cd424cb6964376c3d7007ce0",
      "913a0473049e4443ac0c3d73a3296c8c",
      "fdbfdf85e89f4908a4eb071af5a6fec1",
      "da0ffefb10b64d66a3d2eb3c1f3e948f",
      "1c1a94275566471987a6ad8b6e173a72"
     ]
    },
    "executionInfo": {
     "elapsed": 468566,
     "status": "ok",
     "timestamp": 1751780139314,
     "user": {
      "displayName": "Adarsh Jupudi",
      "userId": "01345547289760622668"
     },
     "user_tz": -330
    },
    "id": "FerNLgpt8POG",
    "outputId": "ff98b110-c0ff-4ace-a577-97ee680d5397"
   },
   "outputs": [],
   "source": [
    "train_accuracies,test_accuracies= [], []\n",
    "\n",
    "for epoch in tqdm(range(EPOCHS)):\n",
    "    train_loss, train_acc = train(model, train_loader, optimizer, criterion)\n",
    "    test_acc = evaluate(model, test_loader)\n",
    "    train_accuracies.append(train_acc)\n",
    "    test_accuracies.append(test_acc)\n",
    "    print(f\"Epoch: {epoch+1}/{EPOCHS}, Train loss: {train_loss:.4f}, Train acc: {train_acc:.4f}%, Test acc: {test_acc:.4f}\")\n"
   ]
  },
  {
   "cell_type": "code",
   "execution_count": null,
   "metadata": {
    "colab": {
     "base_uri": "https://localhost:8080/",
     "height": 472
    },
    "executionInfo": {
     "elapsed": 675,
     "status": "ok",
     "timestamp": 1751781440389,
     "user": {
      "displayName": "Adarsh Jupudi",
      "userId": "01345547289760622668"
     },
     "user_tz": -330
    },
    "id": "OFOTuxJhO7Xj",
    "outputId": "19ebe90f-f068-487b-824a-0c7b7cfd2370"
   },
   "outputs": [],
   "source": [
    "# Plot accuracy\n",
    "plt.plot(train_accuracies, label=\"Train Accuracy\")\n",
    "plt.plot(test_accuracies, label=\"Test Accuracy\")\n",
    "plt.xlabel(\"Epochs\")\n",
    "plt.ylabel(\"Accuracy\")\n",
    "plt.legend()\n",
    "plt.title(\"Training and Test Accuracy\")\n",
    "plt.show()"
   ]
  }
 ],
 "metadata": {
  "accelerator": "GPU",
  "colab": {
   "authorship_tag": "ABX9TyPc1i+QLXl49BtEhQGpC/ma",
   "gpuType": "T4",
   "provenance": []
  },
  "kernelspec": {
   "display_name": "Python 3",
   "name": "python3"
  },
  "language_info": {
   "name": "python"
  },
  "widgets": {
   "application/vnd.jupyter.widget-state+json": {
    "1a48ee75fb154a9184f3b275c93871a2": {
     "model_module": "@jupyter-widgets/base",
     "model_module_version": "1.2.0",
     "model_name": "LayoutModel",
     "state": {
      "_model_module": "@jupyter-widgets/base",
      "_model_module_version": "1.2.0",
      "_model_name": "LayoutModel",
      "_view_count": null,
      "_view_module": "@jupyter-widgets/base",
      "_view_module_version": "1.2.0",
      "_view_name": "LayoutView",
      "align_content": null,
      "align_items": null,
      "align_self": null,
      "border": null,
      "bottom": null,
      "display": null,
      "flex": null,
      "flex_flow": null,
      "grid_area": null,
      "grid_auto_columns": null,
      "grid_auto_flow": null,
      "grid_auto_rows": null,
      "grid_column": null,
      "grid_gap": null,
      "grid_row": null,
      "grid_template_areas": null,
      "grid_template_columns": null,
      "grid_template_rows": null,
      "height": null,
      "justify_content": null,
      "justify_items": null,
      "left": null,
      "margin": null,
      "max_height": null,
      "max_width": null,
      "min_height": null,
      "min_width": null,
      "object_fit": null,
      "object_position": null,
      "order": null,
      "overflow": null,
      "overflow_x": null,
      "overflow_y": null,
      "padding": null,
      "right": null,
      "top": null,
      "visibility": null,
      "width": null
     }
    },
    "1c1a94275566471987a6ad8b6e173a72": {
     "model_module": "@jupyter-widgets/controls",
     "model_module_version": "1.5.0",
     "model_name": "DescriptionStyleModel",
     "state": {
      "_model_module": "@jupyter-widgets/controls",
      "_model_module_version": "1.5.0",
      "_model_name": "DescriptionStyleModel",
      "_view_count": null,
      "_view_module": "@jupyter-widgets/base",
      "_view_module_version": "1.2.0",
      "_view_name": "StyleView",
      "description_width": ""
     }
    },
    "21ba5ad978974ed28704d905041bb6fc": {
     "model_module": "@jupyter-widgets/controls",
     "model_module_version": "1.5.0",
     "model_name": "FloatProgressModel",
     "state": {
      "_dom_classes": [],
      "_model_module": "@jupyter-widgets/controls",
      "_model_module_version": "1.5.0",
      "_model_name": "FloatProgressModel",
      "_view_count": null,
      "_view_module": "@jupyter-widgets/controls",
      "_view_module_version": "1.5.0",
      "_view_name": "ProgressView",
      "bar_style": "success",
      "description": "",
      "description_tooltip": null,
      "layout": "IPY_MODEL_913a0473049e4443ac0c3d73a3296c8c",
      "max": 10,
      "min": 0,
      "orientation": "horizontal",
      "style": "IPY_MODEL_fdbfdf85e89f4908a4eb071af5a6fec1",
      "value": 10
     }
    },
    "39988c4cb45f4eb98b7f03ec3638cdd0": {
     "model_module": "@jupyter-widgets/controls",
     "model_module_version": "1.5.0",
     "model_name": "HTMLModel",
     "state": {
      "_dom_classes": [],
      "_model_module": "@jupyter-widgets/controls",
      "_model_module_version": "1.5.0",
      "_model_name": "HTMLModel",
      "_view_count": null,
      "_view_module": "@jupyter-widgets/controls",
      "_view_module_version": "1.5.0",
      "_view_name": "HTMLView",
      "description": "",
      "description_tooltip": null,
      "layout": "IPY_MODEL_1a48ee75fb154a9184f3b275c93871a2",
      "placeholder": "​",
      "style": "IPY_MODEL_f9edda90cd424cb6964376c3d7007ce0",
      "value": "100%"
     }
    },
    "52aee31ac360451cb0d5a87df9d19f8c": {
     "model_module": "@jupyter-widgets/base",
     "model_module_version": "1.2.0",
     "model_name": "LayoutModel",
     "state": {
      "_model_module": "@jupyter-widgets/base",
      "_model_module_version": "1.2.0",
      "_model_name": "LayoutModel",
      "_view_count": null,
      "_view_module": "@jupyter-widgets/base",
      "_view_module_version": "1.2.0",
      "_view_name": "LayoutView",
      "align_content": null,
      "align_items": null,
      "align_self": null,
      "border": null,
      "bottom": null,
      "display": null,
      "flex": null,
      "flex_flow": null,
      "grid_area": null,
      "grid_auto_columns": null,
      "grid_auto_flow": null,
      "grid_auto_rows": null,
      "grid_column": null,
      "grid_gap": null,
      "grid_row": null,
      "grid_template_areas": null,
      "grid_template_columns": null,
      "grid_template_rows": null,
      "height": null,
      "justify_content": null,
      "justify_items": null,
      "left": null,
      "margin": null,
      "max_height": null,
      "max_width": null,
      "min_height": null,
      "min_width": null,
      "object_fit": null,
      "object_position": null,
      "order": null,
      "overflow": null,
      "overflow_x": null,
      "overflow_y": null,
      "padding": null,
      "right": null,
      "top": null,
      "visibility": null,
      "width": null
     }
    },
    "5ab0d830c11847b3aa1f15600500863d": {
     "model_module": "@jupyter-widgets/controls",
     "model_module_version": "1.5.0",
     "model_name": "HTMLModel",
     "state": {
      "_dom_classes": [],
      "_model_module": "@jupyter-widgets/controls",
      "_model_module_version": "1.5.0",
      "_model_name": "HTMLModel",
      "_view_count": null,
      "_view_module": "@jupyter-widgets/controls",
      "_view_module_version": "1.5.0",
      "_view_name": "HTMLView",
      "description": "",
      "description_tooltip": null,
      "layout": "IPY_MODEL_da0ffefb10b64d66a3d2eb3c1f3e948f",
      "placeholder": "​",
      "style": "IPY_MODEL_1c1a94275566471987a6ad8b6e173a72",
      "value": " 10/10 [07:48&lt;00:00, 47.28s/it]"
     }
    },
    "913a0473049e4443ac0c3d73a3296c8c": {
     "model_module": "@jupyter-widgets/base",
     "model_module_version": "1.2.0",
     "model_name": "LayoutModel",
     "state": {
      "_model_module": "@jupyter-widgets/base",
      "_model_module_version": "1.2.0",
      "_model_name": "LayoutModel",
      "_view_count": null,
      "_view_module": "@jupyter-widgets/base",
      "_view_module_version": "1.2.0",
      "_view_name": "LayoutView",
      "align_content": null,
      "align_items": null,
      "align_self": null,
      "border": null,
      "bottom": null,
      "display": null,
      "flex": null,
      "flex_flow": null,
      "grid_area": null,
      "grid_auto_columns": null,
      "grid_auto_flow": null,
      "grid_auto_rows": null,
      "grid_column": null,
      "grid_gap": null,
      "grid_row": null,
      "grid_template_areas": null,
      "grid_template_columns": null,
      "grid_template_rows": null,
      "height": null,
      "justify_content": null,
      "justify_items": null,
      "left": null,
      "margin": null,
      "max_height": null,
      "max_width": null,
      "min_height": null,
      "min_width": null,
      "object_fit": null,
      "object_position": null,
      "order": null,
      "overflow": null,
      "overflow_x": null,
      "overflow_y": null,
      "padding": null,
      "right": null,
      "top": null,
      "visibility": null,
      "width": null
     }
    },
    "95726936239d4a7d9277e546152f4cdc": {
     "model_module": "@jupyter-widgets/controls",
     "model_module_version": "1.5.0",
     "model_name": "HBoxModel",
     "state": {
      "_dom_classes": [],
      "_model_module": "@jupyter-widgets/controls",
      "_model_module_version": "1.5.0",
      "_model_name": "HBoxModel",
      "_view_count": null,
      "_view_module": "@jupyter-widgets/controls",
      "_view_module_version": "1.5.0",
      "_view_name": "HBoxView",
      "box_style": "",
      "children": [
       "IPY_MODEL_39988c4cb45f4eb98b7f03ec3638cdd0",
       "IPY_MODEL_21ba5ad978974ed28704d905041bb6fc",
       "IPY_MODEL_5ab0d830c11847b3aa1f15600500863d"
      ],
      "layout": "IPY_MODEL_52aee31ac360451cb0d5a87df9d19f8c"
     }
    },
    "da0ffefb10b64d66a3d2eb3c1f3e948f": {
     "model_module": "@jupyter-widgets/base",
     "model_module_version": "1.2.0",
     "model_name": "LayoutModel",
     "state": {
      "_model_module": "@jupyter-widgets/base",
      "_model_module_version": "1.2.0",
      "_model_name": "LayoutModel",
      "_view_count": null,
      "_view_module": "@jupyter-widgets/base",
      "_view_module_version": "1.2.0",
      "_view_name": "LayoutView",
      "align_content": null,
      "align_items": null,
      "align_self": null,
      "border": null,
      "bottom": null,
      "display": null,
      "flex": null,
      "flex_flow": null,
      "grid_area": null,
      "grid_auto_columns": null,
      "grid_auto_flow": null,
      "grid_auto_rows": null,
      "grid_column": null,
      "grid_gap": null,
      "grid_row": null,
      "grid_template_areas": null,
      "grid_template_columns": null,
      "grid_template_rows": null,
      "height": null,
      "justify_content": null,
      "justify_items": null,
      "left": null,
      "margin": null,
      "max_height": null,
      "max_width": null,
      "min_height": null,
      "min_width": null,
      "object_fit": null,
      "object_position": null,
      "order": null,
      "overflow": null,
      "overflow_x": null,
      "overflow_y": null,
      "padding": null,
      "right": null,
      "top": null,
      "visibility": null,
      "width": null
     }
    },
    "f9edda90cd424cb6964376c3d7007ce0": {
     "model_module": "@jupyter-widgets/controls",
     "model_module_version": "1.5.0",
     "model_name": "DescriptionStyleModel",
     "state": {
      "_model_module": "@jupyter-widgets/controls",
      "_model_module_version": "1.5.0",
      "_model_name": "DescriptionStyleModel",
      "_view_count": null,
      "_view_module": "@jupyter-widgets/base",
      "_view_module_version": "1.2.0",
      "_view_name": "StyleView",
      "description_width": ""
     }
    },
    "fdbfdf85e89f4908a4eb071af5a6fec1": {
     "model_module": "@jupyter-widgets/controls",
     "model_module_version": "1.5.0",
     "model_name": "ProgressStyleModel",
     "state": {
      "_model_module": "@jupyter-widgets/controls",
      "_model_module_version": "1.5.0",
      "_model_name": "ProgressStyleModel",
      "_view_count": null,
      "_view_module": "@jupyter-widgets/base",
      "_view_module_version": "1.2.0",
      "_view_name": "StyleView",
      "bar_color": null,
      "description_width": ""
     }
    }
   }
  }
 },
 "nbformat": 4,
 "nbformat_minor": 0
}
